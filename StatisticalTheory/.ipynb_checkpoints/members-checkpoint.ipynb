{
 "cells": [
  {
   "cell_type": "markdown",
   "metadata": {},
   "source": [
    "## รายชื่อผู้จัดทำ\n",
    "\n",
    "1. นายสุเมธ จุฑาจันทร์ 5905106603\n",
    "2. นายธนัชพงศ์ เลิศพิชยศักดิ์ 5905106012\n",
    "3. นายอติคุณ คณาสิริวัฒนะ 5905106021 \n",
    "4. น.ส. ศุภกาญจน์ วงศ์ชัยสุริยะ 5905106034\n",
    "5. น.ส. ธัชนันท์  ติรสุวรรณวาสี 5905106041 \n",
    "6. น.ส. นภวรรณ กิมะพันธ์ 1910531201006\n",
    "7. น.ส. ธนัญญา ธนาวิชิตฤกษ์ 1910531201007\n",
    "8. น.ส. กาญจนา จงจิตร์ 1910531201015\n",
    "9. น.ส. ณภัทร นพเกตุ 1910531201019\n",
    "10. นาย ณพัชร มาแก่น 1910531201028"
   ]
  }
 ],
 "metadata": {
  "kernelspec": {
   "display_name": "Python 3",
   "language": "python",
   "name": "python3"
  },
  "language_info": {
   "codemirror_mode": {
    "name": "ipython",
    "version": 3
   },
   "file_extension": ".py",
   "mimetype": "text/x-python",
   "name": "python",
   "nbconvert_exporter": "python",
   "pygments_lexer": "ipython3",
   "version": "3.7.6"
  }
 },
 "nbformat": 4,
 "nbformat_minor": 2
}
