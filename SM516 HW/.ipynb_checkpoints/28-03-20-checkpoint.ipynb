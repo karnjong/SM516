{
 "cells": [
  {
   "cell_type": "markdown",
   "metadata": {},
   "source": [
    "## โครงสร้างของโปรแรกม Python\n",
    "- **Programs** are composed of modules\n",
    "- **Modules** contain statements\n",
    "- **Statements** contain expression: login\n",
    "- **Expression** create and process objects\n"
   ]
  },
  {
   "cell_type": "code",
   "execution_count": 3,
   "metadata": {},
   "outputs": [
    {
     "name": "stdout",
     "output_type": "stream",
     "text": [
      "\u0007\n"
     ]
    }
   ],
   "source": [
    "print('\\a') ##bell"
   ]
  },
  {
   "cell_type": "markdown",
   "metadata": {},
   "source": [
    "## Input and Output"
   ]
  },
  {
   "cell_type": "markdown",
   "metadata": {},
   "source": [
    "## ชุดตัวอักษร (Strings) $\\to$ วัตถุ(Objects) $\\to$ Tuple"
   ]
  },
  {
   "cell_type": "code",
   "execution_count": null,
   "metadata": {},
   "outputs": [],
   "source": []
  },
  {
   "cell_type": "code",
   "execution_count": null,
   "metadata": {},
   "outputs": [],
   "source": []
  },
  {
   "cell_type": "code",
   "execution_count": null,
   "metadata": {},
   "outputs": [],
   "source": []
  },
  {
   "cell_type": "code",
   "execution_count": null,
   "metadata": {},
   "outputs": [],
   "source": []
  },
  {
   "cell_type": "code",
   "execution_count": null,
   "metadata": {},
   "outputs": [],
   "source": []
  },
  {
   "cell_type": "code",
   "execution_count": null,
   "metadata": {},
   "outputs": [],
   "source": []
  },
  {
   "cell_type": "code",
   "execution_count": null,
   "metadata": {},
   "outputs": [],
   "source": []
  },
  {
   "cell_type": "code",
   "execution_count": 1,
   "metadata": {},
   "outputs": [
    {
     "name": "stdout",
     "output_type": "stream",
     "text": [
      "Tell me your lucky number: 20\n",
      "This is a valid number! Your lucky number is:  20\n"
     ]
    }
   ],
   "source": [
    "test3word = input(\"Tell me your lucky number: \")\n",
    "\n",
    "try:\n",
    "    test3num = int(test3word)\n",
    "    print(\"This is a valid number! Your lucky number is: \", test3num)\n",
    "except ValueError:\n",
    "    print(\"This is not a valid number. It isn't a number at all!\")\n",
    "    print(\"This is a string, go and try again. Better luck next time!\")"
   ]
  },
  {
   "cell_type": "code",
   "execution_count": 2,
   "metadata": {},
   "outputs": [
    {
     "name": "stdout",
     "output_type": "stream",
     "text": [
      "What's your name? Karnjong\n",
      "From 1 to 7, how many hours do you play in your mobile?7\n",
      "Impressive,  Karnjong ! You spent 420 minutes or 25200 seconds in your mobile!\n"
     ]
    }
   ],
   "source": [
    "# Makes a function that will contain the\n",
    "# desired program.\n",
    "\n",
    "def example():\n",
    "\n",
    "    # Calls for an infinite loop that keeps executing\n",
    "    # until an exception occurs\n",
    "    while True:\n",
    "        test4word = input(\"What's your name? \")\n",
    "\n",
    "        try:\n",
    "            test4num = int(input(\"From 1 to 7, how many hours do you play in your mobile?\" ))\n",
    "\n",
    "        # If something else that is not the string\n",
    "        # version of a number is introduced, the\n",
    "        # ValueError exception will be called.\n",
    "        except ValueError:\n",
    "            # The cycle will go on until validation\n",
    "            print(\"Error! This is not a number. Try again.\")\n",
    "\n",
    "        # When successfully converted to an integer,\n",
    "        # the loop will end.\n",
    "        else:\n",
    "            print(\"Impressive, \", test4word, \"! You spent\", test4num*60, \n",
    "                  \"minutes or\", test4num*60*60, \"seconds in your mobile!\")\n",
    "            break\n",
    "\n",
    "# The function is called\n",
    "example()"
   ]
  },
  {
   "cell_type": "code",
   "execution_count": 9,
   "metadata": {},
   "outputs": [
    {
     "name": "stderr",
     "output_type": "stream",
     "text": [
      "UsageError: %%writefile is a cell magic, but the cell body is empty.\n"
     ]
    }
   ],
   "source": [
    "%%writefile test.txt"
   ]
  },
  {
   "cell_type": "code",
   "execution_count": null,
   "metadata": {},
   "outputs": [],
   "source": []
  }
 ],
 "metadata": {
  "kernelspec": {
   "display_name": "Python 3",
   "language": "python",
   "name": "python3"
  },
  "language_info": {
   "codemirror_mode": {
    "name": "ipython",
    "version": 3
   },
   "file_extension": ".py",
   "mimetype": "text/x-python",
   "name": "python",
   "nbconvert_exporter": "python",
   "pygments_lexer": "ipython3",
   "version": "3.7.6"
  }
 },
 "nbformat": 4,
 "nbformat_minor": 2
}
