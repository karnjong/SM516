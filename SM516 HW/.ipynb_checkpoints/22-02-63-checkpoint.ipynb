{
 "cells": [
  {
   "cell_type": "code",
   "execution_count": 19,
   "metadata": {},
   "outputs": [],
   "source": [
    "a = [1, 2, 3] ## a ชี้ไปที่ค่านี้"
   ]
  },
  {
   "cell_type": "code",
   "execution_count": 5,
   "metadata": {},
   "outputs": [],
   "source": [
    "b = a ##เราเปลี่ยน b"
   ]
  },
  {
   "cell_type": "code",
   "execution_count": 6,
   "metadata": {},
   "outputs": [
    {
     "name": "stdout",
     "output_type": "stream",
     "text": [
      "[1, 2, 3]\n"
     ]
    }
   ],
   "source": [
    "print(b)"
   ]
  },
  {
   "cell_type": "code",
   "execution_count": 7,
   "metadata": {},
   "outputs": [],
   "source": [
    "b[0] = 0  ##ลักษณะของ references"
   ]
  },
  {
   "cell_type": "code",
   "execution_count": 9,
   "metadata": {},
   "outputs": [
    {
     "name": "stdout",
     "output_type": "stream",
     "text": [
      "[0, 2, 3]\n"
     ]
    }
   ],
   "source": [
    "print(a) ## a เปลี่ยนด้วย"
   ]
  },
  {
   "cell_type": "code",
   "execution_count": 13,
   "metadata": {},
   "outputs": [
    {
     "data": {
      "text/plain": [
       "True"
      ]
     },
     "execution_count": 13,
     "metadata": {},
     "output_type": "execute_result"
    }
   ],
   "source": [
    "0 in a ##ถามว่า 0 อยู่ใน a?"
   ]
  },
  {
   "cell_type": "code",
   "execution_count": 25,
   "metadata": {},
   "outputs": [
    {
     "name": "stdout",
     "output_type": "stream",
     "text": [
      "0\n",
      "2\n",
      "3\n"
     ]
    }
   ],
   "source": [
    "for x in b:  ## สำหรับ x แต่ละตัวที่อยู่ใน b  ## คือการนับจำนวนที่แน่นอน\n",
    "    print(x) ## Tab"
   ]
  },
  {
   "cell_type": "code",
   "execution_count": 26,
   "metadata": {},
   "outputs": [],
   "source": [
    "while 0: ## ถ้าเป็น while 1 ; จะรันแบบ infinity\n",
    "    print(x)   "
   ]
  },
  {
   "cell_type": "markdown",
   "metadata": {},
   "source": [
    "pass คือการข้ามไปเฉยๆ\n",
    "def : define >> module is Finction and methods\n",
    "Example def f(a, b, c=1, *d):\n",
    "        print(a+b+c+d[0])\n",
    "def f(a,s) แปลว่า define หน่วย f ; f มี input อะไรเข้ามาบ้าง ; (a, s) is input\n",
    "return ให้ output ออกมา"
   ]
  },
  {
   "cell_type": "markdown",
   "metadata": {},
   "source": [
    "คำสั่งไว้เรียกตัว module >> import (สำหรับหมดเลย) , from\n",
    "class คือการสร้างชนิดข้อมูลขึ้นมาใหม่ >> สร้าง blueprint(แม่แบบ หรือชนิดข้อมูล) >> object\n",
    "ถ้าแม่แบบ >> ลูกศรจะชี้ไปยังชุดข้อมูล\n",
    "try/except/finally เช่น กรณีหาด้วย 0 ไม่ได้ : มี error เกิดขึ้น"
   ]
  },
  {
   "cell_type": "code",
   "execution_count": null,
   "metadata": {},
   "outputs": [],
   "source": [
    "from mymodule import var1 ##ชั้นทำส่วน module พังเลยไม่สามารถ import ได้ >> ต้องลองกลับไปแก้เอง ;_;"
   ]
  },
  {
   "cell_type": "code",
   "execution_count": 35,
   "metadata": {},
   "outputs": [
    {
     "name": "stdout",
     "output_type": "stream",
     "text": [
      "1\n",
      "2\n"
     ]
    }
   ],
   "source": [
    "if 1:\n",
    "    print(1)\n",
    "    print(2)"
   ]
  },
  {
   "cell_type": "code",
   "execution_count": 33,
   "metadata": {},
   "outputs": [
    {
     "name": "stdout",
     "output_type": "stream",
     "text": [
      "True\n"
     ]
    }
   ],
   "source": [
    "if 1<2: ## นิยมไม่ใส่ () เพราะจะสับสนกับ container\n",
    "    print('True');## จะใส่ ; หรือไม่ใส่ก็ได้"
   ]
  },
  {
   "cell_type": "code",
   "execution_count": 36,
   "metadata": {},
   "outputs": [],
   "source": [
    "3; ##ถ้าใส่ ; แบบนี้จะไม่แสดง output"
   ]
  },
  {
   "cell_type": "code",
   "execution_count": 37,
   "metadata": {},
   "outputs": [
    {
     "data": {
      "text/plain": [
       "3"
      ]
     },
     "execution_count": 37,
     "metadata": {},
     "output_type": "execute_result"
    }
   ],
   "source": [
    "3 ##แบบนี้พอไม่ใส่จะแสดง output"
   ]
  },
  {
   "cell_type": "code",
   "execution_count": 38,
   "metadata": {},
   "outputs": [
    {
     "name": "stdout",
     "output_type": "stream",
     "text": [
      "2\n"
     ]
    }
   ],
   "source": [
    "a = 1 ##กำหนดค่า a\n",
    "b = 1 ##กำหนดค่า b\n",
    "print(a+b)"
   ]
  },
  {
   "cell_type": "code",
   "execution_count": 39,
   "metadata": {},
   "outputs": [
    {
     "name": "stdout",
     "output_type": "stream",
     "text": [
      "2\n"
     ]
    }
   ],
   "source": [
    "a =1; b =1; print(a+b) ##ไม่นิยมพิมพ์ใส่ในบรรทัดเดียวเหมือนภาษา C"
   ]
  },
  {
   "cell_type": "code",
   "execution_count": 40,
   "metadata": {},
   "outputs": [],
   "source": [
    "mylist = [1111,   ##Sapce bar เท่ากันทุกบรรทัด\n",
    "          2222,\n",
    "          3333]"
   ]
  },
  {
   "cell_type": "code",
   "execution_count": 41,
   "metadata": {},
   "outputs": [
    {
     "data": {
      "text/plain": [
       "[1111, 2222, 3333]"
      ]
     },
     "execution_count": 41,
     "metadata": {},
     "output_type": "execute_result"
    }
   ],
   "source": [
    "mylist"
   ]
  },
  {
   "cell_type": "code",
   "execution_count": 55,
   "metadata": {},
   "outputs": [],
   "source": [
    "a = 'Damn \\\n",
    "You' ## backslash พร้อม ขึ้นบรรทัดใหม่"
   ]
  },
  {
   "cell_type": "code",
   "execution_count": 56,
   "metadata": {},
   "outputs": [
    {
     "data": {
      "text/plain": [
       "'Damn You'"
      ]
     },
     "execution_count": 56,
     "metadata": {},
     "output_type": "execute_result"
    }
   ],
   "source": [
    "a"
   ]
  },
  {
   "cell_type": "code",
   "execution_count": 57,
   "metadata": {},
   "outputs": [],
   "source": [
    "a ='I Fuck \\ you'## backslash ตามด้วยไม่ขึ้นบรรทัดใหม่ จะแสดงค่าติด backsash"
   ]
  },
  {
   "cell_type": "code",
   "execution_count": 58,
   "metadata": {},
   "outputs": [
    {
     "data": {
      "text/plain": [
       "'I Fuck \\\\ you'"
      ]
     },
     "execution_count": 58,
     "metadata": {},
     "output_type": "execute_result"
    }
   ],
   "source": [
    "a"
   ]
  },
  {
   "cell_type": "code",
   "execution_count": 6,
   "metadata": {},
   "outputs": [
    {
     "data": {
      "text/plain": [
       "[0, 1, 2]"
      ]
     },
     "execution_count": 6,
     "metadata": {},
     "output_type": "execute_result"
    }
   ],
   "source": [
    "list(range(3)) ## list ความยาวสามตัว เริมจากตำแหน่งที่ 1"
   ]
  },
  {
   "cell_type": "code",
   "execution_count": 7,
   "metadata": {},
   "outputs": [
    {
     "name": "stdout",
     "output_type": "stream",
     "text": [
      "1 [2, 3, 4]\n",
      "2 [3, 4]\n",
      "3 [4]\n",
      "4 []\n"
     ]
    }
   ],
   "source": [
    "L = [1, 2, 3, 4]\n",
    "while L:\n",
    "    front, L = L[0], L[1:] ##ไม่เอาตำแหน่งแบบวนลูปเรื่อยๆ\n",
    "    print(front, L)"
   ]
  },
  {
   "cell_type": "code",
   "execution_count": 8,
   "metadata": {},
   "outputs": [
    {
     "name": "stdout",
     "output_type": "stream",
     "text": [
      "1 [2, 3, 4]\n",
      "2 [3, 4]\n",
      "3 [4]\n",
      "4 []\n"
     ]
    }
   ],
   "source": [
    "L = [1, 2, 3, 4]\n",
    "while L:\n",
    "    front, *L = L ##ไม่เอาตำแหน่งแบบวนลูปเรื่อยๆ\n",
    "    print(front, L)"
   ]
  },
  {
   "cell_type": "code",
   "execution_count": 10,
   "metadata": {},
   "outputs": [
    {
     "name": "stdout",
     "output_type": "stream",
     "text": [
      "SPAMspam\n"
     ]
    }
   ],
   "source": [
    "S = \"SPAM\"\n",
    "S += \"spam\" ## เอามารวมกัน\n",
    "print(S)"
   ]
  },
  {
   "cell_type": "code",
   "execution_count": 11,
   "metadata": {},
   "outputs": [
    {
     "data": {
      "text/plain": [
       "[1, 2, 3]"
      ]
     },
     "execution_count": 11,
     "metadata": {},
     "output_type": "execute_result"
    }
   ],
   "source": [
    "L = [1, 2]\n",
    "L = L + [3] ## slowly\n",
    "L"
   ]
  },
  {
   "cell_type": "markdown",
   "metadata": {},
   "source": [
    "x = 0          # x bound to an integer object\n",
    "x = 'Hello'    # It's a string\n",
    "x = [1, 2, 3]  # It's a list"
   ]
  },
  {
   "cell_type": "code",
   "execution_count": 15,
   "metadata": {},
   "outputs": [
    {
     "data": {
      "text/plain": [
       "[1, 2, 3]"
      ]
     },
     "execution_count": 15,
     "metadata": {},
     "output_type": "execute_result"
    }
   ],
   "source": [
    "L = [1, 2]\n",
    "L.append(3) ## faster, but in place\n",
    "L"
   ]
  },
  {
   "cell_type": "code",
   "execution_count": 63,
   "metadata": {},
   "outputs": [
    {
     "name": "stdout",
     "output_type": "stream",
     "text": [
      "Run away! Run away!\n"
     ]
    }
   ],
   "source": [
    " x = 'killer rabbit' \n",
    "if x == 'roger':\n",
    "        print(\"shave and a haircut\")\n",
    "elif x == 'bugs':\n",
    "        print(\"what's up doc?\")\n",
    "else:\n",
    "        print('Run away! Run away!')"
   ]
  },
  {
   "cell_type": "code",
   "execution_count": 66,
   "metadata": {},
   "outputs": [
    {
     "data": {
      "text/plain": [
       "-1"
      ]
     },
     "execution_count": 66,
     "metadata": {},
     "output_type": "execute_result"
    }
   ],
   "source": [
    "##Ternary Expression\n",
    "c = -10\n",
    "a = 1 if c>=0 else -1\n",
    "a"
   ]
  },
  {
   "cell_type": "code",
   "execution_count": 75,
   "metadata": {},
   "outputs": [
    {
     "name": "stdout",
     "output_type": "stream",
     "text": [
      "1.99\n"
     ]
    }
   ],
   "source": [
    "choice = 'ham'\n",
    "print({'spam':  1.25,\n",
    "       'ham':   1.99,\n",
    "        'eggs':  0.99,\n",
    "         'bacon': 1.10}[choice])"
   ]
  },
  {
   "cell_type": "code",
   "execution_count": 18,
   "metadata": {},
   "outputs": [
    {
     "name": "stdout",
     "output_type": "stream",
     "text": [
      "Bad choice\n"
     ]
    }
   ],
   "source": [
    "branch = { 'spam': 1.25,\n",
    "           'ham' : 1.99,\n",
    "           'eggs': 0.99}\n",
    "choice  = 'bacon'\n",
    "if choice in branch:\n",
    "    print(branch[choice])\n",
    "else:\n",
    "    print('Bad choice') ## ใน branch ไม่มีคำว่า bacon"
   ]
  },
  {
   "cell_type": "code",
   "execution_count": 77,
   "metadata": {},
   "outputs": [
    {
     "name": "stdout",
     "output_type": "stream",
     "text": [
      "1\n",
      "2\n",
      "3\n",
      "4\n",
      "5\n",
      "6\n",
      "7\n",
      "8\n",
      "9\n",
      "10\n"
     ]
    }
   ],
   "source": [
    "x = 0\n",
    "while x < 10: ## ถ้า x < 10 ให้ทำต่อไป\n",
    "    x += 1    ## แปลว่า X = X+1\n",
    "    print(x)\n",
    "pass"
   ]
  },
  {
   "cell_type": "code",
   "execution_count": null,
   "metadata": {},
   "outputs": [],
   "source": [
    "x = '12345'\n",
    "while x:\n",
    "    print(x, end=' ') ## วนลูปย่น 1 ตำแหน่ง , strip first charater\n",
    "    x = x[1:] ## close loop ให้ทำแค่หมดตัว string ก็พอ ##ใช้ x[0:]มันจะไม่หยุดรันอะ"
   ]
  },
  {
   "cell_type": "code",
   "execution_count": 29,
   "metadata": {},
   "outputs": [
    {
     "name": "stdout",
     "output_type": "stream",
     "text": [
      "spam pam am m "
     ]
    }
   ],
   "source": [
    "x = 'spam'\n",
    "while x:\n",
    "    print(x, end =' ') ## strip first charater\n",
    "    x = x[1:] ## close loop ให้ทำแค่หมดตัว string ก็พอ ##ใช้ x[0:]มันจะไม่หยุดรันอะ"
   ]
  },
  {
   "cell_type": "markdown",
   "metadata": {},
   "source": [
    "break แปลว่าให้ออกจาก loop\n",
    "continued คือให้ทำต่อ\n",
    "pass ปล่อยไว้เฉยๆ เดี๋ยวให้มันทำต่อเอง"
   ]
  },
  {
   "cell_type": "code",
   "execution_count": 21,
   "metadata": {},
   "outputs": [
    {
     "name": "stdout",
     "output_type": "stream",
     "text": [
      "8 6 4 2 0 "
     ]
    }
   ],
   "source": [
    "# Or, x -= 1\n",
    "# Odd? -- skip print\n",
    "x = 10\n",
    "while x:\n",
    "    x -= 1\n",
    "    if x % 2 != 0: continue ## same In[20]   \n",
    "    print(x, end=' ')"
   ]
  },
  {
   "cell_type": "code",
   "execution_count": 20,
   "metadata": {},
   "outputs": [
    {
     "name": "stdout",
     "output_type": "stream",
     "text": [
      "8 6 4 2 0 "
     ]
    }
   ],
   "source": [
    "# Or, x -= 1\n",
    "# Odd? -- skip print\n",
    "x = 10\n",
    "while x:\n",
    "    x -= 1 ## x ลดทีละ -1\n",
    "    if x % 2== 0: ## หาร 2 ลงตัวไม่มีเศษ \n",
    "        print(x, end=' ')"
   ]
  },
  {
   "cell_type": "code",
   "execution_count": 31,
   "metadata": {},
   "outputs": [
    {
     "name": "stdout",
     "output_type": "stream",
     "text": [
      "Enter name:karn\n",
      "Enter age: 23\n",
      "Enter name:stop\n",
      "Hello stop => 529\n"
     ]
    }
   ],
   "source": [
    "# Use raw_input() in 2.X\n",
    "while True:\n",
    "    name = input('Enter name:')\n",
    "    if name == 'stop': break ## หยุดวนลูป\n",
    "    age  = input('Enter age: ')\n",
    "print('Hello', name, '=>', int(age) ** 2) ## 23 ยกกำลัง 2"
   ]
  },
  {
   "cell_type": "code",
   "execution_count": 32,
   "metadata": {},
   "outputs": [
    {
     "ename": "TypeError",
     "evalue": "unsupported operand type(s) for ** or pow(): 'str' and 'int'",
     "output_type": "error",
     "traceback": [
      "\u001b[1;31m---------------------------------------------------------------------------\u001b[0m",
      "\u001b[1;31mTypeError\u001b[0m                                 Traceback (most recent call last)",
      "\u001b[1;32m<ipython-input-32-1a13a7d92e8c>\u001b[0m in \u001b[0;36m<module>\u001b[1;34m\u001b[0m\n\u001b[0;32m      1\u001b[0m \u001b[0msum\u001b[0m \u001b[1;33m=\u001b[0m \u001b[1;36m0\u001b[0m\u001b[1;33m\u001b[0m\u001b[1;33m\u001b[0m\u001b[0m\n\u001b[0;32m      2\u001b[0m \u001b[1;32mfor\u001b[0m \u001b[0mx\u001b[0m \u001b[1;32min\u001b[0m \u001b[0mrange\u001b[0m\u001b[1;33m(\u001b[0m\u001b[1;36m11\u001b[0m\u001b[1;33m)\u001b[0m\u001b[1;33m:\u001b[0m\u001b[1;33m\u001b[0m\u001b[1;33m\u001b[0m\u001b[0m\n\u001b[1;32m----> 3\u001b[1;33m     \u001b[0msum\u001b[0m \u001b[1;33m+=\u001b[0m \u001b[0mname\u001b[0m\u001b[1;33m**\u001b[0m\u001b[1;36m2\u001b[0m\u001b[1;33m\u001b[0m\u001b[1;33m\u001b[0m\u001b[0m\n\u001b[0m\u001b[0;32m      4\u001b[0m \u001b[0msum\u001b[0m\u001b[1;33m\u001b[0m\u001b[1;33m\u001b[0m\u001b[0m\n",
      "\u001b[1;31mTypeError\u001b[0m: unsupported operand type(s) for ** or pow(): 'str' and 'int'"
     ]
    }
   ],
   "source": [
    "sum = 0\n",
    "for x in range(11):\n",
    "    sum += name**2\n",
    "sum  "
   ]
  },
  {
   "cell_type": "markdown",
   "metadata": {},
   "source": [
    "Enter name:bob\n",
    "Enter age: 40 \n",
    "Hello bob => 1600 \n",
    "Enter name:sue \n",
    "Enter age: 30 \n",
    "Hello sue => 900 \n",
    "Enter name:stop"
   ]
  },
  {
   "cell_type": "code",
   "execution_count": 35,
   "metadata": {},
   "outputs": [
    {
     "name": "stdout",
     "output_type": "stream",
     "text": [
      "a => 1\n",
      "b => 2\n",
      "c => 3\n"
     ]
    }
   ],
   "source": [
    "D = {'a':1, 'b':2, 'c': 3}\n",
    "for key in D:\n",
    "    print(key, '=>', D[key]) # .ใช้ key ช่วยให้ขึ้นบรรทัดใหม่เหรอ?"
   ]
  },
  {
   "cell_type": "markdown",
   "metadata": {},
   "source": [
    "a => 1\n",
    "b => 2\n",
    "c => 3"
   ]
  },
  {
   "cell_type": "code",
   "execution_count": null,
   "metadata": {},
   "outputs": [],
   "source": [
    "list(rang(-2,10)) ##ไม่รวม 10 P.403"
   ]
  },
  {
   "cell_type": "markdown",
   "metadata": {},
   "source": [
    "[ -2, 1,...,9]"
   ]
  },
  {
   "cell_type": "code",
   "execution_count": 37,
   "metadata": {},
   "outputs": [],
   "source": [
    "a = '1234'"
   ]
  },
  {
   "cell_type": "code",
   "execution_count": 38,
   "metadata": {},
   "outputs": [
    {
     "data": {
      "text/plain": [
       "'2'"
      ]
     },
     "execution_count": 38,
     "metadata": {},
     "output_type": "execute_result"
    }
   ],
   "source": [
    "a[1:2] ## เอาตำแหน่ง  1 เท่านั้น"
   ]
  },
  {
   "cell_type": "code",
   "execution_count": 40,
   "metadata": {},
   "outputs": [
    {
     "data": {
      "text/plain": [
       "[]"
      ]
     },
     "execution_count": 40,
     "metadata": {},
     "output_type": "execute_result"
    }
   ],
   "source": [
    "list(range(1,10,-1)) ## ลดทีละ -1 "
   ]
  },
  {
   "cell_type": "markdown",
   "metadata": {},
   "source": [
    "hw download lecture1 >> ให้ run มห้ได้"
   ]
  }
 ],
 "metadata": {
  "kernelspec": {
   "display_name": "Python 3",
   "language": "python",
   "name": "python3"
  },
  "language_info": {
   "codemirror_mode": {
    "name": "ipython",
    "version": 3
   },
   "file_extension": ".py",
   "mimetype": "text/x-python",
   "name": "python",
   "nbconvert_exporter": "python",
   "pygments_lexer": "ipython3",
   "version": "3.7.6"
  }
 },
 "nbformat": 4,
 "nbformat_minor": 2
}
