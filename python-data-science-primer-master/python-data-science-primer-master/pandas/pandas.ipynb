{
 "cells": [
  {
   "cell_type": "code",
   "execution_count": 2,
   "metadata": {
    "collapsed": true
   },
   "outputs": [],
   "source": [
    "# pandas is commonly imported as `pd`\n",
    "import pandas as pd"
   ]
  },
  {
   "cell_type": "markdown",
   "metadata": {},
   "source": [
    "# Dataframes\n",
    "\n",
    "The most important feature pandas gives us access to is the `DataFrame`.  Dataframes are two-dimensional stucutres that you can think of very much like a spreadsheet with named columns and rows.  In fact, it supports reading in CSV and Excel files.\n",
    "\n",
    "First, let's read a CSV containing population information of the States of the USA."
   ]
  },
  {
   "cell_type": "code",
   "execution_count": 4,
   "metadata": {
    "collapsed": false
   },
   "outputs": [],
   "source": [
    "# Create a DataFrame, `df`, from the csv located in `data/population.csv`\n",
    "df = pd.read_csv('data/population.csv')"
   ]
  },
  {
   "cell_type": "markdown",
   "metadata": {},
   "source": [
    "To see what our data looks like, we can use `df.head(n)` to see the first `n` rows, with n=5 the default:"
   ]
  },
  {
   "cell_type": "code",
   "execution_count": 77,
   "metadata": {
    "collapsed": false
   },
   "outputs": [
    {
     "data": {
      "text/html": [
       "<div>\n",
       "<table border=\"1\" class=\"dataframe\">\n",
       "  <thead>\n",
       "    <tr style=\"text-align: right;\">\n",
       "      <th></th>\n",
       "      <th>Id</th>\n",
       "      <th>Id2</th>\n",
       "      <th>Geography</th>\n",
       "      <th>2010</th>\n",
       "      <th>2011</th>\n",
       "      <th>2012</th>\n",
       "      <th>2013</th>\n",
       "      <th>2014</th>\n",
       "      <th>2015</th>\n",
       "      <th>pop_change</th>\n",
       "    </tr>\n",
       "  </thead>\n",
       "  <tbody>\n",
       "    <tr>\n",
       "      <th>0</th>\n",
       "      <td>0400000US01</td>\n",
       "      <td>1</td>\n",
       "      <td>Alabama</td>\n",
       "      <td>4785161</td>\n",
       "      <td>4801108</td>\n",
       "      <td>4816089</td>\n",
       "      <td>4830533</td>\n",
       "      <td>4846411</td>\n",
       "      <td>4858979</td>\n",
       "      <td>12568</td>\n",
       "    </tr>\n",
       "    <tr>\n",
       "      <th>1</th>\n",
       "      <td>0400000US02</td>\n",
       "      <td>2</td>\n",
       "      <td>Alaska</td>\n",
       "      <td>714021</td>\n",
       "      <td>722720</td>\n",
       "      <td>731228</td>\n",
       "      <td>737442</td>\n",
       "      <td>737046</td>\n",
       "      <td>738432</td>\n",
       "      <td>1386</td>\n",
       "    </tr>\n",
       "    <tr>\n",
       "      <th>2</th>\n",
       "      <td>0400000US04</td>\n",
       "      <td>4</td>\n",
       "      <td>Arizona</td>\n",
       "      <td>6408208</td>\n",
       "      <td>6468732</td>\n",
       "      <td>6553262</td>\n",
       "      <td>6630799</td>\n",
       "      <td>6728783</td>\n",
       "      <td>6828065</td>\n",
       "      <td>99282</td>\n",
       "    </tr>\n",
       "    <tr>\n",
       "      <th>3</th>\n",
       "      <td>0400000US05</td>\n",
       "      <td>5</td>\n",
       "      <td>Arkansas</td>\n",
       "      <td>2922394</td>\n",
       "      <td>2938538</td>\n",
       "      <td>2949499</td>\n",
       "      <td>2957957</td>\n",
       "      <td>2966835</td>\n",
       "      <td>2978204</td>\n",
       "      <td>11369</td>\n",
       "    </tr>\n",
       "    <tr>\n",
       "      <th>4</th>\n",
       "      <td>0400000US06</td>\n",
       "      <td>6</td>\n",
       "      <td>California</td>\n",
       "      <td>37334079</td>\n",
       "      <td>37700034</td>\n",
       "      <td>38056055</td>\n",
       "      <td>38414128</td>\n",
       "      <td>38792291</td>\n",
       "      <td>39144818</td>\n",
       "      <td>352527</td>\n",
       "    </tr>\n",
       "  </tbody>\n",
       "</table>\n",
       "</div>"
      ],
      "text/plain": [
       "            Id Id2   Geography      2010      2011      2012      2013  \\\n",
       "0  0400000US01   1     Alabama   4785161   4801108   4816089   4830533   \n",
       "1  0400000US02   2      Alaska    714021    722720    731228    737442   \n",
       "2  0400000US04   4     Arizona   6408208   6468732   6553262   6630799   \n",
       "3  0400000US05   5    Arkansas   2922394   2938538   2949499   2957957   \n",
       "4  0400000US06   6  California  37334079  37700034  38056055  38414128   \n",
       "\n",
       "       2014      2015  pop_change  \n",
       "0   4846411   4858979       12568  \n",
       "1    737046    738432        1386  \n",
       "2   6728783   6828065       99282  \n",
       "3   2966835   2978204       11369  \n",
       "4  38792291  39144818      352527  "
      ]
     },
     "execution_count": 77,
     "metadata": {},
     "output_type": "execute_result"
    }
   ],
   "source": [
    "df.head()"
   ]
  },
  {
   "cell_type": "markdown",
   "metadata": {},
   "source": [
    "We see that for each state we have two IDs and then 6 columns of years - in this case each column is the population of that state during the given year.\n",
    "\n",
    "We can acess columns by referencing the column name just like a python dictionary:"
   ]
  },
  {
   "cell_type": "code",
   "execution_count": 78,
   "metadata": {
    "collapsed": false,
    "scrolled": false
   },
   "outputs": [
    {
     "data": {
      "text/plain": [
       "0     4785161\n",
       "1      714021\n",
       "2     6408208\n",
       "3     2922394\n",
       "4    37334079\n",
       "Name: 2010, dtype: int64"
      ]
     },
     "execution_count": 78,
     "metadata": {},
     "output_type": "execute_result"
    }
   ],
   "source": [
    "df['2010'].head()"
   ]
  },
  {
   "cell_type": "markdown",
   "metadata": {},
   "source": [
    "We can get multiple columns at once by passing a list of column names:"
   ]
  },
  {
   "cell_type": "code",
   "execution_count": 79,
   "metadata": {
    "collapsed": false
   },
   "outputs": [
    {
     "data": {
      "text/html": [
       "<div>\n",
       "<table border=\"1\" class=\"dataframe\">\n",
       "  <thead>\n",
       "    <tr style=\"text-align: right;\">\n",
       "      <th></th>\n",
       "      <th>2010</th>\n",
       "      <th>2011</th>\n",
       "    </tr>\n",
       "  </thead>\n",
       "  <tbody>\n",
       "    <tr>\n",
       "      <th>0</th>\n",
       "      <td>4785161</td>\n",
       "      <td>4801108</td>\n",
       "    </tr>\n",
       "    <tr>\n",
       "      <th>1</th>\n",
       "      <td>714021</td>\n",
       "      <td>722720</td>\n",
       "    </tr>\n",
       "    <tr>\n",
       "      <th>2</th>\n",
       "      <td>6408208</td>\n",
       "      <td>6468732</td>\n",
       "    </tr>\n",
       "    <tr>\n",
       "      <th>3</th>\n",
       "      <td>2922394</td>\n",
       "      <td>2938538</td>\n",
       "    </tr>\n",
       "    <tr>\n",
       "      <th>4</th>\n",
       "      <td>37334079</td>\n",
       "      <td>37700034</td>\n",
       "    </tr>\n",
       "  </tbody>\n",
       "</table>\n",
       "</div>"
      ],
      "text/plain": [
       "       2010      2011\n",
       "0   4785161   4801108\n",
       "1    714021    722720\n",
       "2   6408208   6468732\n",
       "3   2922394   2938538\n",
       "4  37334079  37700034"
      ]
     },
     "execution_count": 79,
     "metadata": {},
     "output_type": "execute_result"
    }
   ],
   "source": [
    "df[['2010', '2011']].head()"
   ]
  },
  {
   "cell_type": "markdown",
   "metadata": {},
   "source": [
    "And then we can access groups of rows using a range of row IDs:"
   ]
  },
  {
   "cell_type": "code",
   "execution_count": 15,
   "metadata": {
    "collapsed": false
   },
   "outputs": [
    {
     "data": {
      "text/html": [
       "<div>\n",
       "<table border=\"1\" class=\"dataframe\">\n",
       "  <thead>\n",
       "    <tr style=\"text-align: right;\">\n",
       "      <th></th>\n",
       "      <th>Id</th>\n",
       "      <th>Id2</th>\n",
       "      <th>Geography</th>\n",
       "      <th>2010</th>\n",
       "      <th>2011</th>\n",
       "      <th>2012</th>\n",
       "      <th>2013</th>\n",
       "      <th>2014</th>\n",
       "      <th>2015</th>\n",
       "    </tr>\n",
       "  </thead>\n",
       "  <tbody>\n",
       "    <tr>\n",
       "      <th>5</th>\n",
       "      <td>0400000US08</td>\n",
       "      <td>8</td>\n",
       "      <td>Colorado</td>\n",
       "      <td>5048254</td>\n",
       "      <td>5119480</td>\n",
       "      <td>5191731</td>\n",
       "      <td>5271132</td>\n",
       "      <td>5355588</td>\n",
       "      <td>5456574</td>\n",
       "    </tr>\n",
       "    <tr>\n",
       "      <th>6</th>\n",
       "      <td>0400000US09</td>\n",
       "      <td>9</td>\n",
       "      <td>Connecticut</td>\n",
       "      <td>3579717</td>\n",
       "      <td>3589759</td>\n",
       "      <td>3593541</td>\n",
       "      <td>3597168</td>\n",
       "      <td>3594762</td>\n",
       "      <td>3590886</td>\n",
       "    </tr>\n",
       "    <tr>\n",
       "      <th>7</th>\n",
       "      <td>0400000US10</td>\n",
       "      <td>10</td>\n",
       "      <td>Delaware</td>\n",
       "      <td>899791</td>\n",
       "      <td>907916</td>\n",
       "      <td>917099</td>\n",
       "      <td>925353</td>\n",
       "      <td>935968</td>\n",
       "      <td>945934</td>\n",
       "    </tr>\n",
       "    <tr>\n",
       "      <th>8</th>\n",
       "      <td>0400000US11</td>\n",
       "      <td>11</td>\n",
       "      <td>District of Columbia</td>\n",
       "      <td>605126</td>\n",
       "      <td>620472</td>\n",
       "      <td>635342</td>\n",
       "      <td>649540</td>\n",
       "      <td>659836</td>\n",
       "      <td>672228</td>\n",
       "    </tr>\n",
       "    <tr>\n",
       "      <th>9</th>\n",
       "      <td>0400000US12</td>\n",
       "      <td>12</td>\n",
       "      <td>Florida</td>\n",
       "      <td>18849890</td>\n",
       "      <td>19105533</td>\n",
       "      <td>19352021</td>\n",
       "      <td>19594467</td>\n",
       "      <td>19905569</td>\n",
       "      <td>20271272</td>\n",
       "    </tr>\n",
       "  </tbody>\n",
       "</table>\n",
       "</div>"
      ],
      "text/plain": [
       "            Id  Id2             Geography      2010      2011      2012  \\\n",
       "5  0400000US08    8              Colorado   5048254   5119480   5191731   \n",
       "6  0400000US09    9           Connecticut   3579717   3589759   3593541   \n",
       "7  0400000US10   10              Delaware    899791    907916    917099   \n",
       "8  0400000US11   11  District of Columbia    605126    620472    635342   \n",
       "9  0400000US12   12               Florida  18849890  19105533  19352021   \n",
       "\n",
       "       2013      2014      2015  \n",
       "5   5271132   5355588   5456574  \n",
       "6   3597168   3594762   3590886  \n",
       "7    925353    935968    945934  \n",
       "8    649540    659836    672228  \n",
       "9  19594467  19905569  20271272  "
      ]
     },
     "execution_count": 15,
     "metadata": {},
     "output_type": "execute_result"
    }
   ],
   "source": [
    "df[5:10]"
   ]
  },
  {
   "cell_type": "markdown",
   "metadata": {},
   "source": [
    "Accessing individual rows is different.  You can't just use `df[i]`.  Instead you need to use df.loc:"
   ]
  },
  {
   "cell_type": "code",
   "execution_count": 21,
   "metadata": {
    "collapsed": false
   },
   "outputs": [
    {
     "data": {
      "text/plain": [
       "Id           0400000US24\n",
       "Id2                   24\n",
       "Geography       Maryland\n",
       "2010             5788409\n",
       "2011             5844171\n",
       "2012             5890740\n",
       "2013             5936040\n",
       "2014             5975346\n",
       "2015             6006401\n",
       "Name: 20, dtype: object"
      ]
     },
     "execution_count": 21,
     "metadata": {},
     "output_type": "execute_result"
    }
   ],
   "source": [
    "df.loc[20]"
   ]
  },
  {
   "cell_type": "markdown",
   "metadata": {},
   "source": [
    "Pandas gives us an easy way to get summary statistics of our data:"
   ]
  },
  {
   "cell_type": "code",
   "execution_count": 22,
   "metadata": {
    "collapsed": false
   },
   "outputs": [
    {
     "data": {
      "text/html": [
       "<div>\n",
       "<table border=\"1\" class=\"dataframe\">\n",
       "  <thead>\n",
       "    <tr style=\"text-align: right;\">\n",
       "      <th></th>\n",
       "      <th>Id2</th>\n",
       "      <th>2010</th>\n",
       "      <th>2011</th>\n",
       "      <th>2012</th>\n",
       "      <th>2013</th>\n",
       "      <th>2014</th>\n",
       "      <th>2015</th>\n",
       "    </tr>\n",
       "  </thead>\n",
       "  <tbody>\n",
       "    <tr>\n",
       "      <th>count</th>\n",
       "      <td>52.000000</td>\n",
       "      <td>5.200000e+01</td>\n",
       "      <td>5.200000e+01</td>\n",
       "      <td>5.200000e+01</td>\n",
       "      <td>5.200000e+01</td>\n",
       "      <td>5.200000e+01</td>\n",
       "      <td>5.200000e+01</td>\n",
       "    </tr>\n",
       "    <tr>\n",
       "      <th>mean</th>\n",
       "      <td>29.788462</td>\n",
       "      <td>6.020546e+06</td>\n",
       "      <td>6.065338e+06</td>\n",
       "      <td>6.110329e+06</td>\n",
       "      <td>6.154240e+06</td>\n",
       "      <td>6.200813e+06</td>\n",
       "      <td>6.247942e+06</td>\n",
       "    </tr>\n",
       "    <tr>\n",
       "      <th>std</th>\n",
       "      <td>16.774557</td>\n",
       "      <td>6.780109e+06</td>\n",
       "      <td>6.851091e+06</td>\n",
       "      <td>6.920737e+06</td>\n",
       "      <td>6.988942e+06</td>\n",
       "      <td>7.064993e+06</td>\n",
       "      <td>7.140930e+06</td>\n",
       "    </tr>\n",
       "    <tr>\n",
       "      <th>min</th>\n",
       "      <td>1.000000</td>\n",
       "      <td>5.645160e+05</td>\n",
       "      <td>5.677680e+05</td>\n",
       "      <td>5.770800e+05</td>\n",
       "      <td>5.831310e+05</td>\n",
       "      <td>5.843040e+05</td>\n",
       "      <td>5.861070e+05</td>\n",
       "    </tr>\n",
       "    <tr>\n",
       "      <th>25%</th>\n",
       "      <td>16.750000</td>\n",
       "      <td>1.765265e+06</td>\n",
       "      <td>1.777821e+06</td>\n",
       "      <td>1.791004e+06</td>\n",
       "      <td>1.792935e+06</td>\n",
       "      <td>1.795265e+06</td>\n",
       "      <td>1.796828e+06</td>\n",
       "    </tr>\n",
       "    <tr>\n",
       "      <th>50%</th>\n",
       "      <td>29.500000</td>\n",
       "      <td>4.092954e+06</td>\n",
       "      <td>4.118196e+06</td>\n",
       "      <td>4.141056e+06</td>\n",
       "      <td>4.163265e+06</td>\n",
       "      <td>4.191910e+06</td>\n",
       "      <td>4.227034e+06</td>\n",
       "    </tr>\n",
       "    <tr>\n",
       "      <th>75%</th>\n",
       "      <td>42.500000</td>\n",
       "      <td>6.609542e+06</td>\n",
       "      <td>6.664655e+06</td>\n",
       "      <td>6.717658e+06</td>\n",
       "      <td>6.774928e+06</td>\n",
       "      <td>6.832134e+06</td>\n",
       "      <td>6.913636e+06</td>\n",
       "    </tr>\n",
       "    <tr>\n",
       "      <th>max</th>\n",
       "      <td>72.000000</td>\n",
       "      <td>3.733408e+07</td>\n",
       "      <td>3.770003e+07</td>\n",
       "      <td>3.805606e+07</td>\n",
       "      <td>3.841413e+07</td>\n",
       "      <td>3.879229e+07</td>\n",
       "      <td>3.914482e+07</td>\n",
       "    </tr>\n",
       "  </tbody>\n",
       "</table>\n",
       "</div>"
      ],
      "text/plain": [
       "             Id2          2010          2011          2012          2013  \\\n",
       "count  52.000000  5.200000e+01  5.200000e+01  5.200000e+01  5.200000e+01   \n",
       "mean   29.788462  6.020546e+06  6.065338e+06  6.110329e+06  6.154240e+06   \n",
       "std    16.774557  6.780109e+06  6.851091e+06  6.920737e+06  6.988942e+06   \n",
       "min     1.000000  5.645160e+05  5.677680e+05  5.770800e+05  5.831310e+05   \n",
       "25%    16.750000  1.765265e+06  1.777821e+06  1.791004e+06  1.792935e+06   \n",
       "50%    29.500000  4.092954e+06  4.118196e+06  4.141056e+06  4.163265e+06   \n",
       "75%    42.500000  6.609542e+06  6.664655e+06  6.717658e+06  6.774928e+06   \n",
       "max    72.000000  3.733408e+07  3.770003e+07  3.805606e+07  3.841413e+07   \n",
       "\n",
       "               2014          2015  \n",
       "count  5.200000e+01  5.200000e+01  \n",
       "mean   6.200813e+06  6.247942e+06  \n",
       "std    7.064993e+06  7.140930e+06  \n",
       "min    5.843040e+05  5.861070e+05  \n",
       "25%    1.795265e+06  1.796828e+06  \n",
       "50%    4.191910e+06  4.227034e+06  \n",
       "75%    6.832134e+06  6.913636e+06  \n",
       "max    3.879229e+07  3.914482e+07  "
      ]
     },
     "execution_count": 22,
     "metadata": {},
     "output_type": "execute_result"
    }
   ],
   "source": [
    "df.describe()"
   ]
  },
  {
   "cell_type": "markdown",
   "metadata": {},
   "source": [
    "One thing you might notice is that describe only lists the numeric columns, but `Id2` is included in that even though it would be better to treat it as a string.  pandas tries to guess the datatype of each column and in this case, all of the values in `Id2` are integers, so it gets treated as an integer.\n",
    "\n",
    "We can see the datatype details:"
   ]
  },
  {
   "cell_type": "code",
   "execution_count": 9,
   "metadata": {
    "collapsed": false
   },
   "outputs": [
    {
     "data": {
      "text/plain": [
       "Id           object\n",
       "Id2           int64\n",
       "Geography    object\n",
       "2010          int64\n",
       "2011          int64\n",
       "2012          int64\n",
       "2013          int64\n",
       "2014          int64\n",
       "2015          int64\n",
       "dtype: object"
      ]
     },
     "execution_count": 9,
     "metadata": {},
     "output_type": "execute_result"
    }
   ],
   "source": [
    "df.dtypes"
   ]
  },
  {
   "cell_type": "markdown",
   "metadata": {},
   "source": [
    "We can cast `Id2` to a string using `astype` and then override the original column:"
   ]
  },
  {
   "cell_type": "code",
   "execution_count": 25,
   "metadata": {
    "collapsed": false
   },
   "outputs": [
    {
     "data": {
      "text/plain": [
       "Id           object\n",
       "Id2          object\n",
       "Geography    object\n",
       "2010          int64\n",
       "2011          int64\n",
       "2012          int64\n",
       "2013          int64\n",
       "2014          int64\n",
       "2015          int64\n",
       "dtype: object"
      ]
     },
     "execution_count": 25,
     "metadata": {},
     "output_type": "execute_result"
    }
   ],
   "source": [
    "df['Id2'] = df['Id2'].astype(str)\n",
    "\n",
    "df.dtypes"
   ]
  },
  {
   "cell_type": "markdown",
   "metadata": {},
   "source": [
    "Or we could have specified the data type when we originally read the CSV:"
   ]
  },
  {
   "cell_type": "code",
   "execution_count": 43,
   "metadata": {
    "collapsed": false
   },
   "outputs": [
    {
     "data": {
      "text/plain": [
       "Id           object\n",
       "Id2          object\n",
       "Geography    object\n",
       "2010          int64\n",
       "2011          int64\n",
       "2012          int64\n",
       "2013          int64\n",
       "2014          int64\n",
       "2015          int64\n",
       "dtype: object"
      ]
     },
     "execution_count": 43,
     "metadata": {},
     "output_type": "execute_result"
    }
   ],
   "source": [
    "# Pass a dictionary to the dtype parameter with `'column': dtype`\n",
    "df = pd.read_csv('data/population.csv', dtype={'Id2': str})\n",
    "\n",
    "df.dtypes"
   ]
  },
  {
   "cell_type": "markdown",
   "metadata": {},
   "source": [
    "# Operations and Filtering\n",
    "\n",
    "Each column of data behaves very much like a normal numpy array and thus can be used for mathematical operations.  For example, to get the population change from 2014 to 2015 for each state:"
   ]
  },
  {
   "cell_type": "code",
   "execution_count": 44,
   "metadata": {
    "collapsed": false
   },
   "outputs": [
    {
     "data": {
      "text/plain": [
       "0      12568\n",
       "1       1386\n",
       "2      99282\n",
       "3      11369\n",
       "4     352527\n",
       "5     100986\n",
       "6      -3876\n",
       "7       9966\n",
       "8      12392\n",
       "9     365703\n",
       "10    117728\n",
       "11     11346\n",
       "12     20124\n",
       "13    -22194\n",
       "14     21800\n",
       "15     14418\n",
       "16      9134\n",
       "17     12475\n",
       "18     21734\n",
       "19      -928\n",
       "20     31055\n",
       "21     39298\n",
       "22      6270\n",
       "23     32469\n",
       "24     -1110\n",
       "25     19845\n",
       "26      9697\n",
       "27     13210\n",
       "28     52564\n",
       "29      2612\n",
       "30     19169\n",
       "31      -458\n",
       "32     46933\n",
       "33    102415\n",
       "34     16887\n",
       "35     16425\n",
       "36     31728\n",
       "37     57775\n",
       "38      8736\n",
       "39      1391\n",
       "40     66986\n",
       "41      5165\n",
       "42     52520\n",
       "43    490036\n",
       "44     51421\n",
       "45      -725\n",
       "46     54895\n",
       "47    107185\n",
       "48     -4623\n",
       "49     11905\n",
       "50      1803\n",
       "51    -60706\n",
       "dtype: int64"
      ]
     },
     "execution_count": 44,
     "metadata": {},
     "output_type": "execute_result"
    }
   ],
   "source": [
    "df['2015'] - df['2014']"
   ]
  },
  {
   "cell_type": "markdown",
   "metadata": {},
   "source": [
    "Rather than continually computing that value, we can save it to a new column in the DataFrame.  Let's make a new column called 'change':"
   ]
  },
  {
   "cell_type": "code",
   "execution_count": 45,
   "metadata": {
    "collapsed": false
   },
   "outputs": [
    {
     "data": {
      "text/html": [
       "<div>\n",
       "<table border=\"1\" class=\"dataframe\">\n",
       "  <thead>\n",
       "    <tr style=\"text-align: right;\">\n",
       "      <th></th>\n",
       "      <th>Id</th>\n",
       "      <th>Id2</th>\n",
       "      <th>Geography</th>\n",
       "      <th>2010</th>\n",
       "      <th>2011</th>\n",
       "      <th>2012</th>\n",
       "      <th>2013</th>\n",
       "      <th>2014</th>\n",
       "      <th>2015</th>\n",
       "      <th>pop_change</th>\n",
       "    </tr>\n",
       "  </thead>\n",
       "  <tbody>\n",
       "    <tr>\n",
       "      <th>0</th>\n",
       "      <td>0400000US01</td>\n",
       "      <td>1</td>\n",
       "      <td>Alabama</td>\n",
       "      <td>4785161</td>\n",
       "      <td>4801108</td>\n",
       "      <td>4816089</td>\n",
       "      <td>4830533</td>\n",
       "      <td>4846411</td>\n",
       "      <td>4858979</td>\n",
       "      <td>12568</td>\n",
       "    </tr>\n",
       "    <tr>\n",
       "      <th>1</th>\n",
       "      <td>0400000US02</td>\n",
       "      <td>2</td>\n",
       "      <td>Alaska</td>\n",
       "      <td>714021</td>\n",
       "      <td>722720</td>\n",
       "      <td>731228</td>\n",
       "      <td>737442</td>\n",
       "      <td>737046</td>\n",
       "      <td>738432</td>\n",
       "      <td>1386</td>\n",
       "    </tr>\n",
       "    <tr>\n",
       "      <th>2</th>\n",
       "      <td>0400000US04</td>\n",
       "      <td>4</td>\n",
       "      <td>Arizona</td>\n",
       "      <td>6408208</td>\n",
       "      <td>6468732</td>\n",
       "      <td>6553262</td>\n",
       "      <td>6630799</td>\n",
       "      <td>6728783</td>\n",
       "      <td>6828065</td>\n",
       "      <td>99282</td>\n",
       "    </tr>\n",
       "    <tr>\n",
       "      <th>3</th>\n",
       "      <td>0400000US05</td>\n",
       "      <td>5</td>\n",
       "      <td>Arkansas</td>\n",
       "      <td>2922394</td>\n",
       "      <td>2938538</td>\n",
       "      <td>2949499</td>\n",
       "      <td>2957957</td>\n",
       "      <td>2966835</td>\n",
       "      <td>2978204</td>\n",
       "      <td>11369</td>\n",
       "    </tr>\n",
       "    <tr>\n",
       "      <th>4</th>\n",
       "      <td>0400000US06</td>\n",
       "      <td>6</td>\n",
       "      <td>California</td>\n",
       "      <td>37334079</td>\n",
       "      <td>37700034</td>\n",
       "      <td>38056055</td>\n",
       "      <td>38414128</td>\n",
       "      <td>38792291</td>\n",
       "      <td>39144818</td>\n",
       "      <td>352527</td>\n",
       "    </tr>\n",
       "  </tbody>\n",
       "</table>\n",
       "</div>"
      ],
      "text/plain": [
       "            Id Id2   Geography      2010      2011      2012      2013  \\\n",
       "0  0400000US01   1     Alabama   4785161   4801108   4816089   4830533   \n",
       "1  0400000US02   2      Alaska    714021    722720    731228    737442   \n",
       "2  0400000US04   4     Arizona   6408208   6468732   6553262   6630799   \n",
       "3  0400000US05   5    Arkansas   2922394   2938538   2949499   2957957   \n",
       "4  0400000US06   6  California  37334079  37700034  38056055  38414128   \n",
       "\n",
       "       2014      2015  pop_change  \n",
       "0   4846411   4858979       12568  \n",
       "1    737046    738432        1386  \n",
       "2   6728783   6828065       99282  \n",
       "3   2966835   2978204       11369  \n",
       "4  38792291  39144818      352527  "
      ]
     },
     "execution_count": 45,
     "metadata": {},
     "output_type": "execute_result"
    }
   ],
   "source": [
    "df['pop_change'] = df['2015'] - df['2014']\n",
    "\n",
    "df.head()"
   ]
  },
  {
   "cell_type": "markdown",
   "metadata": {},
   "source": [
    "Just like numpy, we can also do element-wise comparisons.  For example, to find out whether a state's population decreased over that year:"
   ]
  },
  {
   "cell_type": "code",
   "execution_count": 46,
   "metadata": {
    "collapsed": false
   },
   "outputs": [
    {
     "data": {
      "text/plain": [
       "0     False\n",
       "1     False\n",
       "2     False\n",
       "3     False\n",
       "4     False\n",
       "5     False\n",
       "6      True\n",
       "7     False\n",
       "8     False\n",
       "9     False\n",
       "10    False\n",
       "11    False\n",
       "12    False\n",
       "13     True\n",
       "14    False\n",
       "15    False\n",
       "16    False\n",
       "17    False\n",
       "18    False\n",
       "19     True\n",
       "20    False\n",
       "21    False\n",
       "22    False\n",
       "23    False\n",
       "24     True\n",
       "25    False\n",
       "26    False\n",
       "27    False\n",
       "28    False\n",
       "29    False\n",
       "30    False\n",
       "31     True\n",
       "32    False\n",
       "33    False\n",
       "34    False\n",
       "35    False\n",
       "36    False\n",
       "37    False\n",
       "38    False\n",
       "39    False\n",
       "40    False\n",
       "41    False\n",
       "42    False\n",
       "43    False\n",
       "44    False\n",
       "45     True\n",
       "46    False\n",
       "47    False\n",
       "48     True\n",
       "49    False\n",
       "50    False\n",
       "51     True\n",
       "Name: pop_change, dtype: bool"
      ]
     },
     "execution_count": 46,
     "metadata": {},
     "output_type": "execute_result"
    }
   ],
   "source": [
    "df['pop_change'] < 0"
   ]
  },
  {
   "cell_type": "markdown",
   "metadata": {},
   "source": [
    "The `True` values are the states with negative population change (decrease).  But that boolean array by itself isn't very useful.  We can use that array as an index to filter our DataFrame:"
   ]
  },
  {
   "cell_type": "code",
   "execution_count": 47,
   "metadata": {
    "collapsed": false
   },
   "outputs": [
    {
     "data": {
      "text/html": [
       "<div>\n",
       "<table border=\"1\" class=\"dataframe\">\n",
       "  <thead>\n",
       "    <tr style=\"text-align: right;\">\n",
       "      <th></th>\n",
       "      <th>Id</th>\n",
       "      <th>Id2</th>\n",
       "      <th>Geography</th>\n",
       "      <th>2010</th>\n",
       "      <th>2011</th>\n",
       "      <th>2012</th>\n",
       "      <th>2013</th>\n",
       "      <th>2014</th>\n",
       "      <th>2015</th>\n",
       "      <th>pop_change</th>\n",
       "    </tr>\n",
       "  </thead>\n",
       "  <tbody>\n",
       "    <tr>\n",
       "      <th>6</th>\n",
       "      <td>0400000US09</td>\n",
       "      <td>9</td>\n",
       "      <td>Connecticut</td>\n",
       "      <td>3579717</td>\n",
       "      <td>3589759</td>\n",
       "      <td>3593541</td>\n",
       "      <td>3597168</td>\n",
       "      <td>3594762</td>\n",
       "      <td>3590886</td>\n",
       "      <td>-3876</td>\n",
       "    </tr>\n",
       "    <tr>\n",
       "      <th>13</th>\n",
       "      <td>0400000US17</td>\n",
       "      <td>17</td>\n",
       "      <td>Illinois</td>\n",
       "      <td>12841249</td>\n",
       "      <td>12861882</td>\n",
       "      <td>12875167</td>\n",
       "      <td>12889580</td>\n",
       "      <td>12882189</td>\n",
       "      <td>12859995</td>\n",
       "      <td>-22194</td>\n",
       "    </tr>\n",
       "    <tr>\n",
       "      <th>19</th>\n",
       "      <td>0400000US23</td>\n",
       "      <td>23</td>\n",
       "      <td>Maine</td>\n",
       "      <td>1327695</td>\n",
       "      <td>1328257</td>\n",
       "      <td>1328888</td>\n",
       "      <td>1328778</td>\n",
       "      <td>1330256</td>\n",
       "      <td>1329328</td>\n",
       "      <td>-928</td>\n",
       "    </tr>\n",
       "    <tr>\n",
       "      <th>24</th>\n",
       "      <td>0400000US28</td>\n",
       "      <td>28</td>\n",
       "      <td>Mississippi</td>\n",
       "      <td>2970316</td>\n",
       "      <td>2977999</td>\n",
       "      <td>2985660</td>\n",
       "      <td>2990976</td>\n",
       "      <td>2993443</td>\n",
       "      <td>2992333</td>\n",
       "      <td>-1110</td>\n",
       "    </tr>\n",
       "    <tr>\n",
       "      <th>31</th>\n",
       "      <td>0400000US35</td>\n",
       "      <td>35</td>\n",
       "      <td>New Mexico</td>\n",
       "      <td>2064741</td>\n",
       "      <td>2078226</td>\n",
       "      <td>2084792</td>\n",
       "      <td>2086890</td>\n",
       "      <td>2085567</td>\n",
       "      <td>2085109</td>\n",
       "      <td>-458</td>\n",
       "    </tr>\n",
       "    <tr>\n",
       "      <th>45</th>\n",
       "      <td>0400000US50</td>\n",
       "      <td>50</td>\n",
       "      <td>Vermont</td>\n",
       "      <td>625984</td>\n",
       "      <td>626687</td>\n",
       "      <td>626398</td>\n",
       "      <td>627129</td>\n",
       "      <td>626767</td>\n",
       "      <td>626042</td>\n",
       "      <td>-725</td>\n",
       "    </tr>\n",
       "    <tr>\n",
       "      <th>48</th>\n",
       "      <td>0400000US54</td>\n",
       "      <td>54</td>\n",
       "      <td>West Virginia</td>\n",
       "      <td>1854225</td>\n",
       "      <td>1854948</td>\n",
       "      <td>1856283</td>\n",
       "      <td>1852985</td>\n",
       "      <td>1848751</td>\n",
       "      <td>1844128</td>\n",
       "      <td>-4623</td>\n",
       "    </tr>\n",
       "    <tr>\n",
       "      <th>51</th>\n",
       "      <td>0400000US72</td>\n",
       "      <td>72</td>\n",
       "      <td>Puerto Rico</td>\n",
       "      <td>3721526</td>\n",
       "      <td>3678736</td>\n",
       "      <td>3634487</td>\n",
       "      <td>3593079</td>\n",
       "      <td>3534888</td>\n",
       "      <td>3474182</td>\n",
       "      <td>-60706</td>\n",
       "    </tr>\n",
       "  </tbody>\n",
       "</table>\n",
       "</div>"
      ],
      "text/plain": [
       "             Id Id2      Geography      2010      2011      2012      2013  \\\n",
       "6   0400000US09   9    Connecticut   3579717   3589759   3593541   3597168   \n",
       "13  0400000US17  17       Illinois  12841249  12861882  12875167  12889580   \n",
       "19  0400000US23  23          Maine   1327695   1328257   1328888   1328778   \n",
       "24  0400000US28  28    Mississippi   2970316   2977999   2985660   2990976   \n",
       "31  0400000US35  35     New Mexico   2064741   2078226   2084792   2086890   \n",
       "45  0400000US50  50        Vermont    625984    626687    626398    627129   \n",
       "48  0400000US54  54  West Virginia   1854225   1854948   1856283   1852985   \n",
       "51  0400000US72  72    Puerto Rico   3721526   3678736   3634487   3593079   \n",
       "\n",
       "        2014      2015  pop_change  \n",
       "6    3594762   3590886       -3876  \n",
       "13  12882189  12859995      -22194  \n",
       "19   1330256   1329328        -928  \n",
       "24   2993443   2992333       -1110  \n",
       "31   2085567   2085109        -458  \n",
       "45    626767    626042        -725  \n",
       "48   1848751   1844128       -4623  \n",
       "51   3534888   3474182      -60706  "
      ]
     },
     "execution_count": 47,
     "metadata": {},
     "output_type": "execute_result"
    }
   ],
   "source": [
    "df[df['pop_change'] < 0]"
   ]
  },
  {
   "cell_type": "markdown",
   "metadata": {},
   "source": [
    "Now we have a subset of the DataFrame with only the decreasing populations."
   ]
  },
  {
   "cell_type": "markdown",
   "metadata": {},
   "source": [
    "# Merging DataFrames\n",
    "\n",
    "If you have data across multiple files, as long as there is a common column they can be joined.  To start with, let's read in a CSV which contains the number of housing units in the state for each year from 2010-2015."
   ]
  },
  {
   "cell_type": "code",
   "execution_count": 65,
   "metadata": {
    "collapsed": false
   },
   "outputs": [
    {
     "data": {
      "text/html": [
       "<div>\n",
       "<table border=\"1\" class=\"dataframe\">\n",
       "  <thead>\n",
       "    <tr style=\"text-align: right;\">\n",
       "      <th></th>\n",
       "      <th>Id</th>\n",
       "      <th>Id2</th>\n",
       "      <th>Geography</th>\n",
       "      <th>2010</th>\n",
       "      <th>2011</th>\n",
       "      <th>2012</th>\n",
       "      <th>2013</th>\n",
       "      <th>2014</th>\n",
       "      <th>2015</th>\n",
       "    </tr>\n",
       "  </thead>\n",
       "  <tbody>\n",
       "    <tr>\n",
       "      <th>0</th>\n",
       "      <td>0400000US01</td>\n",
       "      <td>1</td>\n",
       "      <td>Alabama</td>\n",
       "      <td>2174266</td>\n",
       "      <td>2181371</td>\n",
       "      <td>2189738</td>\n",
       "      <td>2199413</td>\n",
       "      <td>2207849</td>\n",
       "      <td>2218287</td>\n",
       "    </tr>\n",
       "    <tr>\n",
       "      <th>1</th>\n",
       "      <td>0400000US02</td>\n",
       "      <td>2</td>\n",
       "      <td>Alaska</td>\n",
       "      <td>307059</td>\n",
       "      <td>307377</td>\n",
       "      <td>307664</td>\n",
       "      <td>308089</td>\n",
       "      <td>308578</td>\n",
       "      <td>309448</td>\n",
       "    </tr>\n",
       "    <tr>\n",
       "      <th>2</th>\n",
       "      <td>0400000US04</td>\n",
       "      <td>4</td>\n",
       "      <td>Arizona</td>\n",
       "      <td>2848293</td>\n",
       "      <td>2857849</td>\n",
       "      <td>2870144</td>\n",
       "      <td>2887506</td>\n",
       "      <td>2907820</td>\n",
       "      <td>2929030</td>\n",
       "    </tr>\n",
       "    <tr>\n",
       "      <th>3</th>\n",
       "      <td>0400000US05</td>\n",
       "      <td>5</td>\n",
       "      <td>Arkansas</td>\n",
       "      <td>1317756</td>\n",
       "      <td>1323130</td>\n",
       "      <td>1328315</td>\n",
       "      <td>1334978</td>\n",
       "      <td>1341017</td>\n",
       "      <td>1347528</td>\n",
       "    </tr>\n",
       "    <tr>\n",
       "      <th>4</th>\n",
       "      <td>0400000US06</td>\n",
       "      <td>6</td>\n",
       "      <td>California</td>\n",
       "      <td>13688185</td>\n",
       "      <td>13728585</td>\n",
       "      <td>13771494</td>\n",
       "      <td>13828412</td>\n",
       "      <td>13907648</td>\n",
       "      <td>13987625</td>\n",
       "    </tr>\n",
       "  </tbody>\n",
       "</table>\n",
       "</div>"
      ],
      "text/plain": [
       "            Id Id2   Geography      2010      2011      2012      2013  \\\n",
       "0  0400000US01   1     Alabama   2174266   2181371   2189738   2199413   \n",
       "1  0400000US02   2      Alaska    307059    307377    307664    308089   \n",
       "2  0400000US04   4     Arizona   2848293   2857849   2870144   2887506   \n",
       "3  0400000US05   5    Arkansas   1317756   1323130   1328315   1334978   \n",
       "4  0400000US06   6  California  13688185  13728585  13771494  13828412   \n",
       "\n",
       "       2014      2015  \n",
       "0   2207849   2218287  \n",
       "1    308578    309448  \n",
       "2   2907820   2929030  \n",
       "3   1341017   1347528  \n",
       "4  13907648  13987625  "
      ]
     },
     "execution_count": 65,
     "metadata": {},
     "output_type": "execute_result"
    }
   ],
   "source": [
    "housing = pd.read_csv('data/housing.csv', dtype={'Id2': str})\n",
    "\n",
    "housing.head()"
   ]
  },
  {
   "cell_type": "markdown",
   "metadata": {},
   "source": [
    "Since the Id column is shared, it can easily be merged with our original DataFrame:"
   ]
  },
  {
   "cell_type": "code",
   "execution_count": 66,
   "metadata": {
    "collapsed": false
   },
   "outputs": [
    {
     "data": {
      "text/html": [
       "<div>\n",
       "<table border=\"1\" class=\"dataframe\">\n",
       "  <thead>\n",
       "    <tr style=\"text-align: right;\">\n",
       "      <th></th>\n",
       "      <th>Id</th>\n",
       "      <th>Id2_x</th>\n",
       "      <th>Geography_x</th>\n",
       "      <th>2010_x</th>\n",
       "      <th>2011_x</th>\n",
       "      <th>2012_x</th>\n",
       "      <th>2013_x</th>\n",
       "      <th>2014_x</th>\n",
       "      <th>2015_x</th>\n",
       "      <th>pop_change</th>\n",
       "      <th>Id2_y</th>\n",
       "      <th>Geography_y</th>\n",
       "      <th>2010_y</th>\n",
       "      <th>2011_y</th>\n",
       "      <th>2012_y</th>\n",
       "      <th>2013_y</th>\n",
       "      <th>2014_y</th>\n",
       "      <th>2015_y</th>\n",
       "    </tr>\n",
       "  </thead>\n",
       "  <tbody>\n",
       "    <tr>\n",
       "      <th>0</th>\n",
       "      <td>0400000US01</td>\n",
       "      <td>1</td>\n",
       "      <td>Alabama</td>\n",
       "      <td>4785161</td>\n",
       "      <td>4801108</td>\n",
       "      <td>4816089</td>\n",
       "      <td>4830533</td>\n",
       "      <td>4846411</td>\n",
       "      <td>4858979</td>\n",
       "      <td>12568</td>\n",
       "      <td>1</td>\n",
       "      <td>Alabama</td>\n",
       "      <td>2174266</td>\n",
       "      <td>2181371</td>\n",
       "      <td>2189738</td>\n",
       "      <td>2199413</td>\n",
       "      <td>2207849</td>\n",
       "      <td>2218287</td>\n",
       "    </tr>\n",
       "    <tr>\n",
       "      <th>1</th>\n",
       "      <td>0400000US02</td>\n",
       "      <td>2</td>\n",
       "      <td>Alaska</td>\n",
       "      <td>714021</td>\n",
       "      <td>722720</td>\n",
       "      <td>731228</td>\n",
       "      <td>737442</td>\n",
       "      <td>737046</td>\n",
       "      <td>738432</td>\n",
       "      <td>1386</td>\n",
       "      <td>2</td>\n",
       "      <td>Alaska</td>\n",
       "      <td>307059</td>\n",
       "      <td>307377</td>\n",
       "      <td>307664</td>\n",
       "      <td>308089</td>\n",
       "      <td>308578</td>\n",
       "      <td>309448</td>\n",
       "    </tr>\n",
       "    <tr>\n",
       "      <th>2</th>\n",
       "      <td>0400000US04</td>\n",
       "      <td>4</td>\n",
       "      <td>Arizona</td>\n",
       "      <td>6408208</td>\n",
       "      <td>6468732</td>\n",
       "      <td>6553262</td>\n",
       "      <td>6630799</td>\n",
       "      <td>6728783</td>\n",
       "      <td>6828065</td>\n",
       "      <td>99282</td>\n",
       "      <td>4</td>\n",
       "      <td>Arizona</td>\n",
       "      <td>2848293</td>\n",
       "      <td>2857849</td>\n",
       "      <td>2870144</td>\n",
       "      <td>2887506</td>\n",
       "      <td>2907820</td>\n",
       "      <td>2929030</td>\n",
       "    </tr>\n",
       "    <tr>\n",
       "      <th>3</th>\n",
       "      <td>0400000US05</td>\n",
       "      <td>5</td>\n",
       "      <td>Arkansas</td>\n",
       "      <td>2922394</td>\n",
       "      <td>2938538</td>\n",
       "      <td>2949499</td>\n",
       "      <td>2957957</td>\n",
       "      <td>2966835</td>\n",
       "      <td>2978204</td>\n",
       "      <td>11369</td>\n",
       "      <td>5</td>\n",
       "      <td>Arkansas</td>\n",
       "      <td>1317756</td>\n",
       "      <td>1323130</td>\n",
       "      <td>1328315</td>\n",
       "      <td>1334978</td>\n",
       "      <td>1341017</td>\n",
       "      <td>1347528</td>\n",
       "    </tr>\n",
       "    <tr>\n",
       "      <th>4</th>\n",
       "      <td>0400000US06</td>\n",
       "      <td>6</td>\n",
       "      <td>California</td>\n",
       "      <td>37334079</td>\n",
       "      <td>37700034</td>\n",
       "      <td>38056055</td>\n",
       "      <td>38414128</td>\n",
       "      <td>38792291</td>\n",
       "      <td>39144818</td>\n",
       "      <td>352527</td>\n",
       "      <td>6</td>\n",
       "      <td>California</td>\n",
       "      <td>13688185</td>\n",
       "      <td>13728585</td>\n",
       "      <td>13771494</td>\n",
       "      <td>13828412</td>\n",
       "      <td>13907648</td>\n",
       "      <td>13987625</td>\n",
       "    </tr>\n",
       "  </tbody>\n",
       "</table>\n",
       "</div>"
      ],
      "text/plain": [
       "            Id Id2_x Geography_x    2010_x    2011_x    2012_x    2013_x  \\\n",
       "0  0400000US01     1     Alabama   4785161   4801108   4816089   4830533   \n",
       "1  0400000US02     2      Alaska    714021    722720    731228    737442   \n",
       "2  0400000US04     4     Arizona   6408208   6468732   6553262   6630799   \n",
       "3  0400000US05     5    Arkansas   2922394   2938538   2949499   2957957   \n",
       "4  0400000US06     6  California  37334079  37700034  38056055  38414128   \n",
       "\n",
       "     2014_x    2015_x  pop_change Id2_y Geography_y    2010_y    2011_y  \\\n",
       "0   4846411   4858979       12568     1     Alabama   2174266   2181371   \n",
       "1    737046    738432        1386     2      Alaska    307059    307377   \n",
       "2   6728783   6828065       99282     4     Arizona   2848293   2857849   \n",
       "3   2966835   2978204       11369     5    Arkansas   1317756   1323130   \n",
       "4  38792291  39144818      352527     6  California  13688185  13728585   \n",
       "\n",
       "     2012_y    2013_y    2014_y    2015_y  \n",
       "0   2189738   2199413   2207849   2218287  \n",
       "1    307664    308089    308578    309448  \n",
       "2   2870144   2887506   2907820   2929030  \n",
       "3   1328315   1334978   1341017   1347528  \n",
       "4  13771494  13828412  13907648  13987625  "
      ]
     },
     "execution_count": 66,
     "metadata": {},
     "output_type": "execute_result"
    }
   ],
   "source": [
    "merged = df.merge(housing, on='Id')\n",
    "\n",
    "merged.head()"
   ]
  },
  {
   "cell_type": "markdown",
   "metadata": {},
   "source": [
    "Since the column names are all shared, pandas appends '_x' and '_y' to columns from the left and right dataframes, respectively.\n",
    "\n",
    "This isn't very user-friendly, so we can use the parameter `suffixes` to specify custom labels to append.  Furthermore, we can also specify `Id2` and `Geography` in `on` so we don't duplicate those columns."
   ]
  },
  {
   "cell_type": "code",
   "execution_count": 67,
   "metadata": {
    "collapsed": false
   },
   "outputs": [
    {
     "data": {
      "text/html": [
       "<div>\n",
       "<table border=\"1\" class=\"dataframe\">\n",
       "  <thead>\n",
       "    <tr style=\"text-align: right;\">\n",
       "      <th></th>\n",
       "      <th>Id</th>\n",
       "      <th>Id2</th>\n",
       "      <th>Geography</th>\n",
       "      <th>2010_population</th>\n",
       "      <th>2011_population</th>\n",
       "      <th>2012_population</th>\n",
       "      <th>2013_population</th>\n",
       "      <th>2014_population</th>\n",
       "      <th>2015_population</th>\n",
       "      <th>pop_change</th>\n",
       "      <th>2010_housing</th>\n",
       "      <th>2011_housing</th>\n",
       "      <th>2012_housing</th>\n",
       "      <th>2013_housing</th>\n",
       "      <th>2014_housing</th>\n",
       "      <th>2015_housing</th>\n",
       "    </tr>\n",
       "  </thead>\n",
       "  <tbody>\n",
       "    <tr>\n",
       "      <th>0</th>\n",
       "      <td>0400000US01</td>\n",
       "      <td>1</td>\n",
       "      <td>Alabama</td>\n",
       "      <td>4785161</td>\n",
       "      <td>4801108</td>\n",
       "      <td>4816089</td>\n",
       "      <td>4830533</td>\n",
       "      <td>4846411</td>\n",
       "      <td>4858979</td>\n",
       "      <td>12568</td>\n",
       "      <td>2174266</td>\n",
       "      <td>2181371</td>\n",
       "      <td>2189738</td>\n",
       "      <td>2199413</td>\n",
       "      <td>2207849</td>\n",
       "      <td>2218287</td>\n",
       "    </tr>\n",
       "    <tr>\n",
       "      <th>1</th>\n",
       "      <td>0400000US02</td>\n",
       "      <td>2</td>\n",
       "      <td>Alaska</td>\n",
       "      <td>714021</td>\n",
       "      <td>722720</td>\n",
       "      <td>731228</td>\n",
       "      <td>737442</td>\n",
       "      <td>737046</td>\n",
       "      <td>738432</td>\n",
       "      <td>1386</td>\n",
       "      <td>307059</td>\n",
       "      <td>307377</td>\n",
       "      <td>307664</td>\n",
       "      <td>308089</td>\n",
       "      <td>308578</td>\n",
       "      <td>309448</td>\n",
       "    </tr>\n",
       "    <tr>\n",
       "      <th>2</th>\n",
       "      <td>0400000US04</td>\n",
       "      <td>4</td>\n",
       "      <td>Arizona</td>\n",
       "      <td>6408208</td>\n",
       "      <td>6468732</td>\n",
       "      <td>6553262</td>\n",
       "      <td>6630799</td>\n",
       "      <td>6728783</td>\n",
       "      <td>6828065</td>\n",
       "      <td>99282</td>\n",
       "      <td>2848293</td>\n",
       "      <td>2857849</td>\n",
       "      <td>2870144</td>\n",
       "      <td>2887506</td>\n",
       "      <td>2907820</td>\n",
       "      <td>2929030</td>\n",
       "    </tr>\n",
       "    <tr>\n",
       "      <th>3</th>\n",
       "      <td>0400000US05</td>\n",
       "      <td>5</td>\n",
       "      <td>Arkansas</td>\n",
       "      <td>2922394</td>\n",
       "      <td>2938538</td>\n",
       "      <td>2949499</td>\n",
       "      <td>2957957</td>\n",
       "      <td>2966835</td>\n",
       "      <td>2978204</td>\n",
       "      <td>11369</td>\n",
       "      <td>1317756</td>\n",
       "      <td>1323130</td>\n",
       "      <td>1328315</td>\n",
       "      <td>1334978</td>\n",
       "      <td>1341017</td>\n",
       "      <td>1347528</td>\n",
       "    </tr>\n",
       "    <tr>\n",
       "      <th>4</th>\n",
       "      <td>0400000US06</td>\n",
       "      <td>6</td>\n",
       "      <td>California</td>\n",
       "      <td>37334079</td>\n",
       "      <td>37700034</td>\n",
       "      <td>38056055</td>\n",
       "      <td>38414128</td>\n",
       "      <td>38792291</td>\n",
       "      <td>39144818</td>\n",
       "      <td>352527</td>\n",
       "      <td>13688185</td>\n",
       "      <td>13728585</td>\n",
       "      <td>13771494</td>\n",
       "      <td>13828412</td>\n",
       "      <td>13907648</td>\n",
       "      <td>13987625</td>\n",
       "    </tr>\n",
       "  </tbody>\n",
       "</table>\n",
       "</div>"
      ],
      "text/plain": [
       "            Id Id2   Geography  2010_population  2011_population  \\\n",
       "0  0400000US01   1     Alabama          4785161          4801108   \n",
       "1  0400000US02   2      Alaska           714021           722720   \n",
       "2  0400000US04   4     Arizona          6408208          6468732   \n",
       "3  0400000US05   5    Arkansas          2922394          2938538   \n",
       "4  0400000US06   6  California         37334079         37700034   \n",
       "\n",
       "   2012_population  2013_population  2014_population  2015_population  \\\n",
       "0          4816089          4830533          4846411          4858979   \n",
       "1           731228           737442           737046           738432   \n",
       "2          6553262          6630799          6728783          6828065   \n",
       "3          2949499          2957957          2966835          2978204   \n",
       "4         38056055         38414128         38792291         39144818   \n",
       "\n",
       "   pop_change  2010_housing  2011_housing  2012_housing  2013_housing  \\\n",
       "0       12568       2174266       2181371       2189738       2199413   \n",
       "1        1386        307059        307377        307664        308089   \n",
       "2       99282       2848293       2857849       2870144       2887506   \n",
       "3       11369       1317756       1323130       1328315       1334978   \n",
       "4      352527      13688185      13728585      13771494      13828412   \n",
       "\n",
       "   2014_housing  2015_housing  \n",
       "0       2207849       2218287  \n",
       "1        308578        309448  \n",
       "2       2907820       2929030  \n",
       "3       1341017       1347528  \n",
       "4      13907648      13987625  "
      ]
     },
     "execution_count": 67,
     "metadata": {},
     "output_type": "execute_result"
    }
   ],
   "source": [
    "merged = df.merge(housing, on=['Id', 'Id2', 'Geography'], suffixes=('_population', '_housing'))\n",
    "\n",
    "merged.head()"
   ]
  },
  {
   "cell_type": "markdown",
   "metadata": {},
   "source": [
    "We can also notice that when we did the merge, we lost one row.  That is because the housing dataset didn't contain data for Puerto Rico."
   ]
  },
  {
   "cell_type": "code",
   "execution_count": 62,
   "metadata": {
    "collapsed": false
   },
   "outputs": [
    {
     "name": "stdout",
     "output_type": "stream",
     "text": [
      "Population: 52 Merged: 51\n"
     ]
    }
   ],
   "source": [
    "print('Population:', len(df), 'Merged:', len(merged))"
   ]
  },
  {
   "cell_type": "markdown",
   "metadata": {},
   "source": [
    "Now we can do something involving both datasets.  For example, finding the ratio of people to houses:"
   ]
  },
  {
   "cell_type": "code",
   "execution_count": 76,
   "metadata": {
    "collapsed": false
   },
   "outputs": [
    {
     "data": {
      "text/plain": [
       "0    2.190419\n",
       "1    2.386288\n",
       "2    2.331169\n",
       "3    2.210124\n",
       "4    2.798532\n",
       "Name: ratio, dtype: float64"
      ]
     },
     "execution_count": 76,
     "metadata": {},
     "output_type": "execute_result"
    }
   ],
   "source": [
    "merged['ratio'] = merged['2015_population']/merged['2015_housing']\n",
    "\n",
    "merged['ratio'].head()"
   ]
  },
  {
   "cell_type": "markdown",
   "metadata": {},
   "source": [
    "Now let's use `sort_values` to view the states with the lowest ratio of people to houses and view just the state name and ratio columns:"
   ]
  },
  {
   "cell_type": "code",
   "execution_count": 80,
   "metadata": {
    "collapsed": false
   },
   "outputs": [
    {
     "data": {
      "text/html": [
       "<div>\n",
       "<table border=\"1\" class=\"dataframe\">\n",
       "  <thead>\n",
       "    <tr style=\"text-align: right;\">\n",
       "      <th></th>\n",
       "      <th>Geography</th>\n",
       "      <th>ratio</th>\n",
       "    </tr>\n",
       "  </thead>\n",
       "  <tbody>\n",
       "    <tr>\n",
       "      <th>19</th>\n",
       "      <td>Maine</td>\n",
       "      <td>1.822463</td>\n",
       "    </tr>\n",
       "    <tr>\n",
       "      <th>45</th>\n",
       "      <td>Vermont</td>\n",
       "      <td>1.915122</td>\n",
       "    </tr>\n",
       "    <tr>\n",
       "      <th>48</th>\n",
       "      <td>West Virginia</td>\n",
       "      <td>2.082643</td>\n",
       "    </tr>\n",
       "    <tr>\n",
       "      <th>34</th>\n",
       "      <td>North Dakota</td>\n",
       "      <td>2.085428</td>\n",
       "    </tr>\n",
       "    <tr>\n",
       "      <th>26</th>\n",
       "      <td>Montana</td>\n",
       "      <td>2.090152</td>\n",
       "    </tr>\n",
       "  </tbody>\n",
       "</table>\n",
       "</div>"
      ],
      "text/plain": [
       "        Geography     ratio\n",
       "19          Maine  1.822463\n",
       "45        Vermont  1.915122\n",
       "48  West Virginia  2.082643\n",
       "34   North Dakota  2.085428\n",
       "26        Montana  2.090152"
      ]
     },
     "execution_count": 80,
     "metadata": {},
     "output_type": "execute_result"
    }
   ],
   "source": [
    "# Sort the data by ratio\n",
    "merged_sorted = merged.sort_values(by=['ratio'])\n",
    "\n",
    "# Just get the `Geography` and `ratio` columns\n",
    "merged_subset = merged_sorted[['Geography', 'ratio']]\n",
    "\n",
    "# View the first 5\n",
    "merged_subset.head()"
   ]
  },
  {
   "cell_type": "markdown",
   "metadata": {},
   "source": [
    "And now to view the top 5 use ascending=False:"
   ]
  },
  {
   "cell_type": "code",
   "execution_count": 81,
   "metadata": {
    "collapsed": false
   },
   "outputs": [
    {
     "data": {
      "text/html": [
       "<div>\n",
       "<table border=\"1\" class=\"dataframe\">\n",
       "  <thead>\n",
       "    <tr style=\"text-align: right;\">\n",
       "      <th></th>\n",
       "      <th>Geography</th>\n",
       "      <th>ratio</th>\n",
       "    </tr>\n",
       "  </thead>\n",
       "  <tbody>\n",
       "    <tr>\n",
       "      <th>44</th>\n",
       "      <td>Utah</td>\n",
       "      <td>2.886233</td>\n",
       "    </tr>\n",
       "    <tr>\n",
       "      <th>4</th>\n",
       "      <td>California</td>\n",
       "      <td>2.798532</td>\n",
       "    </tr>\n",
       "    <tr>\n",
       "      <th>11</th>\n",
       "      <td>Hawaii</td>\n",
       "      <td>2.688684</td>\n",
       "    </tr>\n",
       "    <tr>\n",
       "      <th>43</th>\n",
       "      <td>Texas</td>\n",
       "      <td>2.594424</td>\n",
       "    </tr>\n",
       "    <tr>\n",
       "      <th>30</th>\n",
       "      <td>New Jersey</td>\n",
       "      <td>2.492766</td>\n",
       "    </tr>\n",
       "  </tbody>\n",
       "</table>\n",
       "</div>"
      ],
      "text/plain": [
       "     Geography     ratio\n",
       "44        Utah  2.886233\n",
       "4   California  2.798532\n",
       "11      Hawaii  2.688684\n",
       "43       Texas  2.594424\n",
       "30  New Jersey  2.492766"
      ]
     },
     "execution_count": 81,
     "metadata": {},
     "output_type": "execute_result"
    }
   ],
   "source": [
    "merged.sort_values(by=['ratio'], ascending=False)[['Geography', 'ratio']].head()"
   ]
  },
  {
   "cell_type": "markdown",
   "metadata": {},
   "source": [
    "# Grouping Rows by Value\n",
    "\n",
    "Sometimes you'd like to aggregate groups of similar rows.  For instance, let's compare the change in housing stock between the states with decreasing population to those with increasing population.  \n",
    "\n",
    "First let's make a column for the housing change and make a column with either True or False for whether the population is increasing."
   ]
  },
  {
   "cell_type": "code",
   "execution_count": 90,
   "metadata": {
    "collapsed": false
   },
   "outputs": [],
   "source": [
    "merged['housing_change'] = merged['2015_housing'] - merged['2014_housing']\n",
    "merged['pop_change_increasing'] = merged['pop_change'] > 0"
   ]
  },
  {
   "cell_type": "markdown",
   "metadata": {},
   "source": [
    "Then use `groupby` to group our rows by whether they had an increasing or decreasing population change from 2014-2015:"
   ]
  },
  {
   "cell_type": "code",
   "execution_count": 91,
   "metadata": {
    "collapsed": true
   },
   "outputs": [],
   "source": [
    "grouped = merged.groupby('pop_change_increasing')"
   ]
  },
  {
   "cell_type": "markdown",
   "metadata": {},
   "source": [
    "Then we can run aggeregate functions on our groups or `describe` to run the same summary statistics we did before:"
   ]
  },
  {
   "cell_type": "code",
   "execution_count": 93,
   "metadata": {
    "collapsed": false
   },
   "outputs": [
    {
     "data": {
      "text/plain": [
       "pop_change_increasing       \n",
       "False                  count         7.000000\n",
       "                       mean       3615.571429\n",
       "                       std        3433.576069\n",
       "                       min         886.000000\n",
       "                       25%        1344.000000\n",
       "                       50%        2406.000000\n",
       "                       75%        4546.000000\n",
       "                       max       10237.000000\n",
       "True                   count        44.000000\n",
       "                       mean      17930.954545\n",
       "                       std       27113.340721\n",
       "                       min         -41.000000\n",
       "                       25%        6383.000000\n",
       "                       50%       10905.500000\n",
       "                       75%       17219.250000\n",
       "                       max      162312.000000\n",
       "Name: housing_change, dtype: float64"
      ]
     },
     "execution_count": 93,
     "metadata": {},
     "output_type": "execute_result"
    }
   ],
   "source": [
    "grouped.describe()['housing_change']"
   ]
  },
  {
   "cell_type": "markdown",
   "metadata": {},
   "source": [
    "We can see that the average housing increase for states with decreasing population is lower.  But the change in housing for all those states is still positive."
   ]
  },
  {
   "cell_type": "markdown",
   "metadata": {},
   "source": [
    "# Further Reading\n",
    "\n",
    "* [10 Minutes to pandas](http://pandas.pydata.org/pandas-docs/stable/10min.html)\n",
    "* [Pandas Documentation](http://pandas.pydata.org/pandas-docs/stable/index.html)"
   ]
  },
  {
   "cell_type": "code",
   "execution_count": null,
   "metadata": {
    "collapsed": true
   },
   "outputs": [],
   "source": []
  }
 ],
 "metadata": {
  "kernelspec": {
   "display_name": "Python 3",
   "language": "python",
   "name": "python3"
  },
  "language_info": {
   "codemirror_mode": {
    "name": "ipython",
    "version": 3
   },
   "file_extension": ".py",
   "mimetype": "text/x-python",
   "name": "python",
   "nbconvert_exporter": "python",
   "pygments_lexer": "ipython3",
   "version": "3.5.1"
  }
 },
 "nbformat": 4,
 "nbformat_minor": 0
}
